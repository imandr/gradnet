{
 "cells": [
  {
   "cell_type": "code",
   "execution_count": 1,
   "id": "334330e0",
   "metadata": {},
   "outputs": [],
   "source": [
    "from gradnet import Input, Model, Loss\n",
    "from gradnet.layers import Dense, Conv2D, Pool, Flatten\n",
    "from gradnet.activations import get_activation\n",
    "from gradnet.optimizers import get_optimizer\n",
    "from gradnet.losses import get_loss\n",
    "from gradnet.metrics import get_metric\n"
   ]
  },
  {
   "cell_type": "code",
   "execution_count": 3,
   "id": "b0a58be5",
   "metadata": {},
   "outputs": [],
   "source": [
    "def create_classification_model():\n",
    "    relu = get_activation(\"relu\")\n",
    "    cce = get_loss(\"cce\")\n",
    "    mse = get_loss(\"mse\")\n",
    "\n",
    "    inp = Input((28,28,1))\n",
    "    conv1 = Conv2D(3,3,32, activation=\"relu\")(inp)\n",
    "    pool1 = Pool(2,2, \"max\")(conv1)\n",
    "    conv2 = Conv2D(3,3,64, activation=\"relu\")(pool1)\n",
    "    pool2 = Pool(2,2, \"max\")(conv2)\n",
    "    flat = Flatten()(pool2)\n",
    "    top = Dense(10, name=\"top\")(flat)\n",
    "    probs = get_activation(\"softmax\", name=\"softmax\")(top)\n",
    "    model = Model([inp], [probs])\n",
    "    model.add_loss(cce(probs))\n",
    "    sgd = get_optimizer(\"SGD\", learning_rate=0.01, momentum=0.5)\n",
    "    model.compile(optimizer=sgd)\n",
    "    \n",
    "    model[\"conv1\"] = conv1.Layer\n",
    "    model[\"conv2\"] = conv2.Layer\n",
    "    \n",
    "    return model\n",
    "\n",
    "class SmoothLoss(Loss):\n",
    "    \n",
    "    def compute(self, data):\n",
    "        y = data[\"image\"]\n",
    "        \n",
    "\n",
    "def create_introspection_model(class_model):\n",
    "    inp_x = Input((3,3,1))\n",
    "    conv_layer = class_model[\"conv1\"]\n",
    "    conv1 = conv_layer(inp)\n",
    "    \n",
    "    \n",
    "    \n",
    "    "
   ]
  },
  {
   "cell_type": "code",
   "execution_count": null,
   "id": "9ab65416",
   "metadata": {},
   "outputs": [],
   "source": []
  }
 ],
 "metadata": {
  "kernelspec": {
   "display_name": "Python 3",
   "language": "python",
   "name": "python3"
  },
  "language_info": {
   "codemirror_mode": {
    "name": "ipython",
    "version": 3
   },
   "file_extension": ".py",
   "mimetype": "text/x-python",
   "name": "python",
   "nbconvert_exporter": "python",
   "pygments_lexer": "ipython3",
   "version": "3.8.5"
  }
 },
 "nbformat": 4,
 "nbformat_minor": 5
}
