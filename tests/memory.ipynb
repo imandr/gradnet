{
 "cells": [
  {
   "cell_type": "code",
   "execution_count": 1,
   "id": "b85b4da1",
   "metadata": {},
   "outputs": [],
   "source": [
    "import numpy as np\n",
    "import tensorflow as tf"
   ]
  },
  {
   "cell_type": "code",
   "execution_count": 70,
   "id": "86862082",
   "metadata": {},
   "outputs": [],
   "source": [
    "def softmax(x):\n",
    "    expx = np.exp(x-np.max(x, axis=-1))\n",
    "    return expx/np.sum(expx, axis=-1, keepdims=True)    \n",
    "\n",
    "def attention(key, data, sharpness=1.0):\n",
    "    # returns [mb, capacity]\n",
    "    return softmax(np.einsum(\"mcl,ml->mc\", data, key))\n",
    "\n",
    "def attention_jacobian(key, data, sharpness=1.0):\n",
    "    # returns [m,c,l] = dA[m,c]/dK[m,l]\n",
    "    a = attention(key, data, sharpness)   # [m,c]\n",
    "    eye = np.eye(data.shape[1])[None,:,:]\n",
    "    jac = a[:,None,:]*(eye-a[:,:,None])     # softmax jacobian J[m,i,j]= dS(m,i)/da(m,j)\n",
    "    print(\"jac:\", jac)\n",
    "    return sharpness*np.einsum(\"mcx,mxl->mcl\", jac, data)\n",
    "    \n",
    "    \n",
    "def key_r_jacobian(key, data, sharpness=1.0):\n",
    "    # dG[m,l]/dKr[m,l]   -> [m,l,l]\n",
    "    jac = attention_jacobian(key, data, sharpness)\n",
    "    return np.einsum(\"mba,mbj->maj\", data, jac)\n",
    "\n",
    "def key_w_jacobian(key, data, sharpness=1.0)\n",
    "    \n"
   ]
  },
  {
   "cell_type": "code",
   "execution_count": 71,
   "id": "820557e1",
   "metadata": {},
   "outputs": [],
   "source": [
    "C = 3\n",
    "L = 2\n",
    "B = 1\n",
    "data0 = np.random.random((B,C,L))\n",
    "data = data0.copy()\n",
    "key = np.random.random((B,L))\n"
   ]
  },
  {
   "cell_type": "code",
   "execution_count": 72,
   "id": "10c4f62d",
   "metadata": {},
   "outputs": [
    {
     "name": "stdout",
     "output_type": "stream",
     "text": [
      "jac: [[[ 0.23965215 -0.1034726  -0.13617955]\n",
      "  [-0.1034726   0.19230468 -0.08883208]\n",
      "  [-0.13617955 -0.08883208  0.22501163]]]\n",
      "attention jacobian dA/dK: (1, 3, 2) [[[-0.040613    0.11095417]\n",
      "  [-0.01780815 -0.10709514]\n",
      "  [ 0.05842115 -0.00385903]]]\n",
      "jac: [[[ 0.23965215 -0.1034726  -0.13617955]\n",
      "  [-0.1034726   0.19230468 -0.08883208]\n",
      "  [-0.13617955 -0.08883208  0.22501163]]]\n",
      "key R jacobian: (1, 2, 2) [[[ 0.01534393 -0.00463273]\n",
      "  [-0.00463273  0.07510054]]]\n"
     ]
    }
   ],
   "source": [
    "jac = attention_jacobian(key, data)\n",
    "print(\"attention jacobian dA/dK:\", jac.shape, jac)\n",
    "key_r_jac = key_r_jacobian(key, data)\n",
    "print(\"key R jacobian:\", key_r_jac.shape, key_r_jac)"
   ]
  },
  {
   "cell_type": "code",
   "execution_count": 76,
   "id": "6eb86532",
   "metadata": {},
   "outputs": [
    {
     "name": "stdout",
     "output_type": "stream",
     "text": [
      "WARNING:tensorflow:8 out of the last 8 calls to <function pfor.<locals>.f at 0x7fc668ac2f70> triggered tf.function retracing. Tracing is expensive and the excessive number of tracings could be due to (1) creating @tf.function repeatedly in a loop, (2) passing tensors with different shapes, (3) passing Python objects instead of tensors. For (1), please define your @tf.function outside of the loop. For (2), @tf.function has experimental_relax_shapes=True option that relaxes argument shapes that can avoid unnecessary retracing. For (3), please refer to https://www.tensorflow.org/guide/function#controlling_retracing and https://www.tensorflow.org/api_docs/python/tf/function for  more details.\n",
      "jacobian: tf.Tensor(\n",
      "[[[[ 0.01534393 -0.00463273]]\n",
      "\n",
      "  [[-0.00463273  0.07510054]]]], shape=(1, 2, 1, 2), dtype=float64)\n"
     ]
    }
   ],
   "source": [
    "def tf_attention(key, data, sharpness=1.0):\n",
    "    return tf.nn.softmax(tf.reduce_sum(data*key[:,None,:]*sharpness, axis=-1), axis=1)\n",
    "\n",
    "with tf.GradientTape() as tape:\n",
    "    d = tf.convert_to_tensor(data)\n",
    "    k = tf.convert_to_tensor(key)\n",
    "    tape.watch(d)\n",
    "    tape.watch(k)\n",
    "    a = tf_attention(k, d)\n",
    "    g = tf.reduce_sum(a[:,:,None]*d, axis=1)\n",
    "print(\"jacobian:\", tape.jacobian(g, k))"
   ]
  },
  {
   "cell_type": "code",
   "execution_count": 52,
   "id": "20c0653d",
   "metadata": {},
   "outputs": [
    {
     "name": "stdout",
     "output_type": "stream",
     "text": [
      "WARNING:tensorflow:5 out of the last 5 calls to <function pfor.<locals>.f at 0x7fc668ac2700> triggered tf.function retracing. Tracing is expensive and the excessive number of tracings could be due to (1) creating @tf.function repeatedly in a loop, (2) passing tensors with different shapes, (3) passing Python objects instead of tensors. For (1), please define your @tf.function outside of the loop. For (2), @tf.function has experimental_relax_shapes=True option that relaxes argument shapes that can avoid unnecessary retracing. For (3), please refer to https://www.tensorflow.org/guide/function#controlling_retracing and https://www.tensorflow.org/api_docs/python/tf/function for  more details.\n",
      "jacobian: tf.Tensor(\n",
      "[[ 0.22885467 -0.12581106 -0.10304361]\n",
      " [-0.12581106  0.22892029 -0.10310923]\n",
      " [-0.10304361 -0.10310923  0.20615284]], shape=(3, 3), dtype=float64)\n"
     ]
    }
   ],
   "source": [
    "x = np.random.random((3,))\n",
    "with tf.GradientTape() as tape:\n",
    "    x = tf.convert_to_tensor(x)\n",
    "    tape.watch(x)\n",
    "    s = tf.nn.softmax(x)\n",
    "print(\"jacobian:\", tape.jacobian(s, x))"
   ]
  },
  {
   "cell_type": "code",
   "execution_count": null,
   "id": "cf94b3ee",
   "metadata": {},
   "outputs": [],
   "source": []
  }
 ],
 "metadata": {
  "kernelspec": {
   "display_name": "Python 3",
   "language": "python",
   "name": "python3"
  },
  "language_info": {
   "codemirror_mode": {
    "name": "ipython",
    "version": 3
   },
   "file_extension": ".py",
   "mimetype": "text/x-python",
   "name": "python",
   "nbconvert_exporter": "python",
   "pygments_lexer": "ipython3",
   "version": "3.8.5"
  }
 },
 "nbformat": 4,
 "nbformat_minor": 5
}
