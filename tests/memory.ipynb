{
 "cells": [
  {
   "cell_type": "code",
   "execution_count": 1,
   "metadata": {},
   "outputs": [],
   "source": [
    "import numpy as np\n",
    "import tensorflow as tf"
   ]
  },
  {
   "cell_type": "code",
   "execution_count": 2,
   "metadata": {},
   "outputs": [],
   "source": [
    "alpha = 0.5\n",
    "\n",
    "def softmax(x):\n",
    "    expx = np.exp(x-np.max(x, axis=-1))\n",
    "    return expx/np.sum(expx, axis=-1, keepdims=True)    \n",
    "\n",
    "def attention(key, data, sharpness=1.0):\n",
    "    # returns [mb, capacity]\n",
    "    return softmax(np.einsum(\"mcl,ml->mc\", data, key))\n",
    "\n",
    "def attention_jacobian(key, data, sharpness=1.0):\n",
    "    # returns [m,c,l] = dA[m,c]/dK[m,l]\n",
    "    a = attention(key, data, sharpness)   # [m,c]\n",
    "    eye = np.eye(data.shape[1])[None,:,:]\n",
    "    jac = a[:,None,:]*(eye-a[:,:,None])     # softmax jacobian J[m,i,j]= dS(m,i)/da(m,j)\n",
    "    print(\"jac:\", jac)\n",
    "    return sharpness*np.einsum(\"mcx,mxl->mcl\", jac, data)\n",
    "\n",
    "da_dk_jac = attention_jacobian\n",
    "    \n",
    "def key_r_jacobian(key, data, sharpness=1.0):\n",
    "    # dG[m,l]/dKr[m,l]   -> [m,l,l]\n",
    "    jac = attention_jacobian(key, data, sharpness)\n",
    "    return np.einsum(\"mba,mbj->maj\", data, jac)\n",
    "\n",
    "def dd_dkw_jacobian(key_w, data, p, sharpness=1.0):\n",
    "    #\n",
    "    # key[m,l]\n",
    "    # data[m,c,l]\n",
    "    # p[m,l]\n",
    "    # returns: dW/dKw[m,c,l,l]\n",
    "    a_jac = da_dk_jac(key_w, data, sharpness)\n",
    "    return alpha * np.einsum(\"ma,mcb->mcab\", p, a_jac)\n",
    "\n",
    "def dd_dp_jacobian(key_w, data, sharpness=1.0):\n",
    "    #\n",
    "    # key_w[m,l]\n",
    "    # data[m,c,l]\n",
    "    # returns [m,c,l,l]\n",
    "    a = attention(key_w, data, sharpness) # [m,c]\n",
    "    eye = np.eye(data.shape[-1])\n",
    "    return alpha * a[:,:,None,None] * eye[None,None,:,:]\n",
    "\n",
    "def dg_dp_jacobian()\n",
    "    \n",
    "def write(key, data, alpha, p, sharpness=1.0):\n",
    "    a = attention(key, b, sharpness)\n",
    "    w = a[:,:,None] * p[:,None,:]\n",
    "    return data + alpha*(w-data)\n",
    "\n",
    "def read(key, data, sharpness=1.0):\n",
    "    a = attention(key, data, sharpness)\n",
    "    return np.sum(a[:,:,None]*data[:,None,:], axis=1)\n",
    "\n",
    "def step(key_r, data, alpha, key_w, p, sharpness=1.0):\n",
    "    data = write(key_w, data, alpha, p, sharpness)\n",
    "    g = read(key_r, data, sharpness)\n",
    "    return g, data\n",
    "\n",
    "\n"
   ]
  },
  {
   "cell_type": "code",
   "execution_count": 3,
   "metadata": {},
   "outputs": [],
   "source": [
    "C = 3\n",
    "L = 2\n",
    "B = 1\n",
    "data0 = np.random.random((B,C,L))\n",
    "data = data0.copy()\n",
    "key_r = np.random.random((B,L))\n",
    "key_w = np.random.random((B,L))\n",
    "p = np.random.random((B,L))\n",
    "alpha = 0.5\n"
   ]
  },
  {
   "cell_type": "code",
   "execution_count": 4,
   "metadata": {},
   "outputs": [],
   "source": [
    "def tf_attention(key, data, sharpness=1.0):\n",
    "    return tf.nn.softmax(tf.reduce_sum(data*key[:,None,:]*sharpness, axis=-1), axis=1)\n",
    "\n",
    "def tf_write(key, b, alpha, p, sharpness=1.0):\n",
    "    a = tf_attention(key, b, sharpness)\n",
    "    w = a[:,:,None] * p[:,None,:]\n",
    "    data = b + alpha*(w-b)\n",
    "    return data\n",
    "\n",
    "def tf_read(key, data, sharpness=1.0):\n",
    "    a = tf_attention(key, data, sharpness)\n",
    "    g = tf.reduce_sum(a[:,:,None] * data, axis=1)\n",
    "    return g\n",
    "\n",
    "def tf_step(key_r, data, alpha, key_w, p, sharpness=1.0):\n",
    "    data = tf_write(key_w, data, alpha, p, sharpness)\n",
    "    g = tf_read(key_r, data, sharpness)\n",
    "    return g, data\n",
    "\n"
   ]
  },
  {
   "cell_type": "code",
   "execution_count": 5,
   "metadata": {},
   "outputs": [
    {
     "name": "stdout",
     "output_type": "stream",
     "text": [
      "jac dg/dKr: tf.Tensor(\n",
      "[[[[0.00230014 0.00234391]]\n",
      "\n",
      "  [[0.00234391 0.012723  ]]]], shape=(1, 2, 1, 2), dtype=float64)\n",
      "jac dg/dKw: tf.Tensor(\n",
      "[[[[0.00073218 0.00261006]]\n",
      "\n",
      "  [[0.00030701 0.00279467]]]], shape=(1, 2, 1, 2), dtype=float64)\n",
      "jac dg/dP: tf.Tensor(\n",
      "[[[[0.16863817 0.0004524 ]]\n",
      "\n",
      "  [[0.00107352 0.16934636]]]], shape=(1, 2, 1, 2), dtype=float64)\n"
     ]
    }
   ],
   "source": [
    "d_t = tf.convert_to_tensor(data)\n",
    "kw_t = tf.convert_to_tensor(key_w)\n",
    "kr_t = tf.convert_to_tensor(key_r)\n",
    "p_t = tf.convert_to_tensor(p)\n",
    "\n",
    "\n",
    "with tf.GradientTape(persistent=True) as tape:\n",
    "    tape.watch(d_t)\n",
    "    tape.watch(kr_t)\n",
    "    tape.watch(kw_t)\n",
    "    tape.watch(p_t)\n",
    "    \n",
    "    g, data1 = tf_step(kr_t, d_t, alpha, kw_t, p_t)\n",
    "    \n",
    "print(\"jac dg/dKr:\", tape.jacobian(g, kr_t))\n",
    "print(\"jac dg/dKw:\", tape.jacobian(g, kw_t))\n",
    "print(\"jac dg/dP:\", tape.jacobian(g, p_t))\n"
   ]
  },
  {
   "cell_type": "code",
   "execution_count": null,
   "metadata": {},
   "outputs": [],
   "source": []
  }
 ],
 "metadata": {
  "kernelspec": {
   "display_name": "Python 3",
   "language": "python",
   "name": "python3"
  },
  "language_info": {
   "codemirror_mode": {
    "name": "ipython",
    "version": 3
   },
   "file_extension": ".py",
   "mimetype": "text/x-python",
   "name": "python",
   "nbconvert_exporter": "python",
   "pygments_lexer": "ipython3",
   "version": "3.7.3"
  }
 },
 "nbformat": 4,
 "nbformat_minor": 5
}
