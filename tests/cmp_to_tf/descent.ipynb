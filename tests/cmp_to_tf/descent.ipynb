{
 "cells": [
  {
   "cell_type": "code",
   "execution_count": 3,
   "id": "a890a341",
   "metadata": {},
   "outputs": [],
   "source": [
    "import numpy as np\n",
    "from matplotlib import pyplot\n",
    "%matplotlib inline\n",
    "import math"
   ]
  },
  {
   "cell_type": "code",
   "execution_count": 131,
   "id": "876f275b",
   "metadata": {},
   "outputs": [],
   "source": [
    "m = np.array([[1.0, 1.1], [1.1, 3.0]])\n",
    "\n",
    "g = np.array([\n",
    "    [2*m[0,0], m[0,1]],\n",
    "    [m[1,0], 2*m[1,1]]\n",
    "])\n",
    "\n",
    "\n",
    "def fcn(x):\n",
    "    return np.sum(np.dot(x, m)*x)\n",
    "\n",
    "def grad(x):\n",
    "    return np.dot(x, g)\n",
    "\n",
    "eta = 0.1\n",
    "w = 1.2"
   ]
  },
  {
   "cell_type": "code",
   "execution_count": 132,
   "id": "dadd6997",
   "metadata": {},
   "outputs": [],
   "source": [
    "def momentum(x, w, eta, context):\n",
    "    old_deltas = context\n",
    "    deltas = -grad(x)*eta\n",
    "    if context is None:\n",
    "        context = np.zeros_like(deltas)\n",
    "    deltas = context*w + deltas*(1.0-w)\n",
    "    return deltas, deltas"
   ]
  },
  {
   "cell_type": "code",
   "execution_count": 133,
   "id": "4810f2fd",
   "metadata": {},
   "outputs": [],
   "source": [
    "def defered(x, w, eta, context):\n",
    "    g = grad(x)\n",
    "    p = context\n",
    "    if p is None: p = np.zeros_like(g)\n",
    "    p = (p+g)/2\n",
    "    deltas = -p*eta\n",
    "    return deltas, p"
   ]
  },
  {
   "cell_type": "code",
   "execution_count": 134,
   "id": "bcaf77a9",
   "metadata": {},
   "outputs": [],
   "source": [
    "def descent(x, w, eta, context):\n",
    "    g = grad(x)\n",
    "    \n",
    "    \n",
    "    \n",
    "    deltas = -g*eta\n",
    "    if context is None:\n",
    "        old_g = g\n",
    "        old_deltas = deltas\n",
    "        old_x = x\n",
    "    else:\n",
    "        old_deltas, old_g, old_x = context\n",
    "    #f = np.sum(g*old_g)/math.sqrt(np.sum(g*g)*np.sum(old_g*old_g))\n",
    "    f = np.sum(-old_deltas*g)/math.sqrt(np.sum(old_deltas*old_deltas)*np.sum(g*g))\n",
    "    w = w*((1+f)/2)**2\n",
    "    deltas = old_deltas*w + deltas*(1.0-w)\n",
    "    print(x, f, w, deltas)\n",
    "    return deltas, (deltas, g, old_x)\n",
    "    "
   ]
  },
  {
   "cell_type": "code",
   "execution_count": 145,
   "id": "a84dffdf",
   "metadata": {},
   "outputs": [],
   "source": [
    "def stretch(x, w, eta, alpha, context):\n",
    "    g = grad(x)\n",
    "    old_deltas = context\n",
    "    if old_deltas is not None:\n",
    "        old_dir = old_deltas/np.sqrt(np.sum(old_deltas**2, axis=-1, keepdims=True))\n",
    "        g_para = old_dir * np.sum(old_dir*g, axis=-1, keepdims=True)\n",
    "        g_orto = g - g_para\n",
    "        g = g_para * w + g_orto\n",
    "    else:\n",
    "        old_deltas = np.zeros_like(g)\n",
    "    deltas = alpha*old_deltas - g*eta*(1.0-alpha)\n",
    "    return deltas, deltas\n",
    "    "
   ]
  },
  {
   "cell_type": "code",
   "execution_count": 147,
   "id": "f63c5961",
   "metadata": {},
   "outputs": [
    {
     "name": "stdout",
     "output_type": "stream",
     "text": [
      "0.0008480425278122744\n"
     ]
    },
    {
     "data": {
      "text/plain": [
       "<matplotlib.collections.PathCollection at 0x7fcb522b7970>"
      ]
     },
     "execution_count": 147,
     "metadata": {},
     "output_type": "execute_result"
    },
    {
     "data": {
      "image/png": "[encoded data removed]",
      "text/plain": [
       "<Figure size 432x288 with 1 Axes>"
      ]
     },
     "metadata": {
      "needs_background": "light"
     },
     "output_type": "display_data"
    }
   ],
   "source": [
    "x = np.array([15.0, 15.0])\n",
    "points = [x]\n",
    "values = [fcn(x)]\n",
    "context = None\n",
    "w = 1.5\n",
    "alpha = 0.5\n",
    "for t in range(20):\n",
    "    deltas, context = stretch(x, w, eta, alpha, context)\n",
    "    x = x + deltas\n",
    "    points.append(x)\n",
    "    values.append(fcn(x))\n",
    "    #print(t, x, fcn(x))\n",
    "points = np.array(points)\n",
    "values = np.array(values)\n",
    "print(values[-1])\n",
    "pyplot.scatter(points[:,0], points[:,1])"
   ]
  },
  {
   "cell_type": "code",
   "execution_count": 115,
   "id": "ee295361",
   "metadata": {},
   "outputs": [
    {
     "name": "stdout",
     "output_type": "stream",
     "text": [
      "0.05338078072141266\n"
     ]
    },
    {
     "data": {
      "text/plain": [
       "<matplotlib.collections.PathCollection at 0x7fcb41b7fa30>"
      ]
     },
     "execution_count": 115,
     "metadata": {},
     "output_type": "execute_result"
    },
    {
     "data": {
      "image/png": "[encoded data removed]",
      "text/plain": [
       "<Figure size 432x288 with 1 Axes>"
      ]
     },
     "metadata": {
      "needs_background": "light"
     },
     "output_type": "display_data"
    }
   ],
   "source": [
    "x = np.array([15.0, 15.0])\n",
    "points = [x]\n",
    "values = [fcn(x)]\n",
    "context = None\n",
    "for t in range(100):\n",
    "    deltas, context = defered(x, w, eta, context)\n",
    "    x = x + deltas\n",
    "    points.append(x)\n",
    "    values.append(fcn(x))\n",
    "    #print(t, x, fcn(x))\n",
    "points = np.array(points)\n",
    "values = np.array(values)\n",
    "print(values[-1])\n",
    "pyplot.scatter(points[:,0], points[:,1])"
   ]
  },
  {
   "cell_type": "code",
   "execution_count": 148,
   "id": "5a76e291",
   "metadata": {},
   "outputs": [
    {
     "name": "stdout",
     "output_type": "stream",
     "text": [
      "0.0034966766442327698\n"
     ]
    },
    {
     "data": {
      "text/plain": [
       "<matplotlib.collections.PathCollection at 0x7fcb31e5a490>"
      ]
     },
     "execution_count": 148,
     "metadata": {},
     "output_type": "execute_result"
    },
    {
     "data": {
      "image/png": "[encoded data removed]",
      "text/plain": [
       "<Figure size 432x288 with 1 Axes>"
      ]
     },
     "metadata": {
      "needs_background": "light"
     },
     "output_type": "display_data"
    }
   ],
   "source": [
    "x = np.array([15.0, 15.0])\n",
    "points = [x]\n",
    "values = [fcn(x)]\n",
    "context = None\n",
    "w = 0.5\n",
    "for t in range(20):\n",
    "    deltas, context = momentum(x, w, eta, context)\n",
    "    x = x + deltas\n",
    "    points.append(x)\n",
    "    values.append(fcn(x))\n",
    "    #print(t, x, fcn(x))\n",
    "points = np.array(points)\n",
    "values = np.array(values)\n",
    "print(values[-1])\n",
    "pyplot.scatter(points[:,0], points[:,1])"
   ]
  },
  {
   "cell_type": "code",
   "execution_count": null,
   "id": "cf42d8d1",
   "metadata": {},
   "outputs": [],
   "source": []
  }
 ],
 "metadata": {
  "kernelspec": {
   "display_name": "Python 3",
   "language": "python",
   "name": "python3"
  },
  "language_info": {
   "codemirror_mode": {
    "name": "ipython",
    "version": 3
   },
   "file_extension": ".py",
   "mimetype": "text/x-python",
   "name": "python",
   "nbconvert_exporter": "python",
   "pygments_lexer": "ipython3",
   "version": "3.8.5"
  }
 },
 "nbformat": 4,
 "nbformat_minor": 5
}
