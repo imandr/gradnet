{
 "cells": [
  {
   "cell_type": "code",
   "execution_count": 57,
   "id": "a890a341",
   "metadata": {},
   "outputs": [],
   "source": [
    "import numpy as np\n",
    "from matplotlib import pyplot\n",
    "%matplotlib inline\n",
    "import math"
   ]
  },
  {
   "cell_type": "code",
   "execution_count": 225,
   "id": "876f275b",
   "metadata": {},
   "outputs": [],
   "source": [
    "m = np.array([[1.0, 1.0], [1.0, 3.0]])\n",
    "\n",
    "g = np.array([\n",
    "    [2*m[0,0], m[0,1]],\n",
    "    [m[1,0], 2*m[1,1]]\n",
    "])\n",
    "\n",
    "\n",
    "def fcn(x):\n",
    "    return np.sum(np.dot(x, m)*x)\n",
    "\n",
    "def grad(x):\n",
    "    return np.dot(x, g)\n",
    "\n",
    "eta = 0.1\n",
    "w = 1.2"
   ]
  },
  {
   "cell_type": "code",
   "execution_count": null,
   "id": "518e3f1e",
   "metadata": {},
   "outputs": [],
   "source": []
  },
  {
   "cell_type": "code",
   "execution_count": 226,
   "id": "dadd6997",
   "metadata": {},
   "outputs": [],
   "source": [
    "def momentum(x, w, eta, context):\n",
    "    old_deltas = context\n",
    "    deltas = -grad(x)*eta\n",
    "    if context is None:\n",
    "        context = deltas\n",
    "    deltas = context*w + deltas*(1.0-w)\n",
    "    return deltas, deltas"
   ]
  },
  {
   "cell_type": "code",
   "execution_count": 227,
   "id": "bcaf77a9",
   "metadata": {},
   "outputs": [],
   "source": [
    "def descent(x, w, eta, context):\n",
    "    g = grad(x)\n",
    "    deltas = -g*eta\n",
    "    if context is None:\n",
    "        old_g = g\n",
    "        old_deltas = deltas\n",
    "        old_x = x\n",
    "    else:\n",
    "        old_deltas, old_g, old_x = context\n",
    "    #f = np.sum(g*old_g)/math.sqrt(np.sum(g*g)*np.sum(old_g*old_g))\n",
    "    f = np.sum(-old_deltas*g)/math.sqrt(np.sum(old_deltas*old_deltas)*np.sum(g*g))\n",
    "    w = w*((1+f)/2)**2\n",
    "    deltas = old_deltas*w + deltas*(1.0-w)\n",
    "    print(x, f, w, deltas)\n",
    "    return deltas, (deltas, g, old_x)\n",
    "    "
   ]
  },
  {
   "cell_type": "code",
   "execution_count": 228,
   "id": "f63c5961",
   "metadata": {},
   "outputs": [
    {
     "name": "stdout",
     "output_type": "stream",
     "text": [
      "[15. 15.] 1.0 1.2 [ -4.5 -10.5]\n",
      "[10.5  4.5] 0.9815701537842161 1.1779860823105204 [ -4.84707286 -11.70140606]\n",
      "[ 5.65292714 -7.20140606] -0.876828202790491 0.004551387488346122 [-0.43063764  3.68520032]\n",
      "[ 5.2222895  -3.51620574] 0.9567476489060163 1.1486584084497666 [-0.39165945  3.99704193]\n",
      "[4.83063006 0.48083619] -0.5249642725866484 0.06769768269573964 [-0.97206443 -0.4487411 ]\n",
      "[3.85856563 0.03209509] 0.9987891630747237 1.1985474355274863 [-1.01120642 -0.45740323]\n",
      "[ 2.84735921 -0.42530813] 0.9327708290937782 1.1206809233387551 [-1.06964802 -0.50903682]\n",
      "[ 1.77771119 -0.93434496] 0.15553817078644291 0.4005805392433435 [-0.58559266  0.02556902]\n",
      "[ 1.19211853 -0.90877594] 0.3681498801939443 0.5615502284024111 [-0.39353125  0.20116144]\n",
      "[ 0.79858728 -0.7076145 ] 0.663205960451862 0.8298762200647803 [-0.34171576  0.22558246]\n",
      "[ 0.45687152 -0.48203204] 0.6881404507250775 0.8549454544122802 [-0.2984105   0.22818613]\n",
      "[ 0.15846102 -0.25384591] 0.6434640067676412 0.8102921824622248 [-0.2429963   0.21078524]\n",
      "[-0.08453528 -0.04306067] 0.1598321610237025 0.40356319252347356 [-0.08541207  0.10551694]\n",
      "[-0.16994735  0.06245627] -0.967804406185041 0.000310966878329347 [ 0.02770866 -0.02043985]\n",
      "[-0.1422387   0.04201643] 0.9780034752078541 1.1737493243803043 [ 0.02831027 -0.02208245]\n",
      "[-0.11392843  0.01993398] 0.8049845889996846 0.9773908099579083 [ 0.0281403  -0.02159602]\n",
      "[-0.08578813 -0.00166204] 0.39976574664963993 0.587803243648087 [ 0.02368178 -0.008747  ]\n",
      "[-0.06210634 -0.01040904] 0.4532292139031021 0.6335625444424285 [ 0.01993694 -0.0009774 ]\n",
      "[-0.04216941 -0.01138644] 0.6170155500394539 0.7844217867208192 [0.01770259 0.00161518]\n",
      "[-0.02446681 -0.00977126] 0.6488353856488849 0.815597438690372 [0.01552072 0.00284962]\n",
      "0.000347602650503291\n"
     ]
    }
   ],
   "source": [
    "x = np.array([15.0, 15.0])\n",
    "points = [x]\n",
    "values = [fcn(x)]\n",
    "context = None\n",
    "for t in range(20):\n",
    "    deltas, context = descent(x, w, eta, context)\n",
    "    x = x + deltas\n",
    "    points.append(x)\n",
    "    values.append(fcn(x))\n",
    "    #print(t, x, fcn(x))\n",
    "points = np.array(points)\n",
    "values = np.array(values)\n",
    "print(values[-1])"
   ]
  },
  {
   "cell_type": "code",
   "execution_count": 229,
   "id": "3f7a3e37",
   "metadata": {},
   "outputs": [
    {
     "data": {
      "text/plain": [
       "<matplotlib.collections.PathCollection at 0x7ff3414dcd60>"
      ]
     },
     "execution_count": 229,
     "metadata": {},
     "output_type": "execute_result"
    },
    {
     "data": {
      "image/png": "[encoded data removed]",
      "text/plain": [
       "<Figure size 432x288 with 1 Axes>"
      ]
     },
     "metadata": {
      "needs_background": "light"
     },
     "output_type": "display_data"
    }
   ],
   "source": [
    "pyplot.scatter(points[:,0], points[:,1])"
   ]
  },
  {
   "cell_type": "code",
   "execution_count": null,
   "id": "cf42d8d1",
   "metadata": {},
   "outputs": [],
   "source": []
  }
 ],
 "metadata": {
  "kernelspec": {
   "display_name": "Python 3",
   "language": "python",
   "name": "python3"
  },
  "language_info": {
   "codemirror_mode": {
    "name": "ipython",
    "version": 3
   },
   "file_extension": ".py",
   "mimetype": "text/x-python",
   "name": "python",
   "nbconvert_exporter": "python",
   "pygments_lexer": "ipython3",
   "version": "3.8.5"
  }
 },
 "nbformat": 4,
 "nbformat_minor": 5
}
